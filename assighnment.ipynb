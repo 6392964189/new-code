{
 "cells": [
  {
   "cell_type": "code",
   "execution_count": 3,
   "metadata": {},
   "outputs": [],
   "source": [
    "from matplotlib import pyplot as plt\n",
    "import numpy as np\n",
    "import csv\n",
    "import csv\n",
    "data =[]\n",
    "with open(r\"C:\\Users\\hp\\Downloads\\MER_T07_02A-2020-02-03.csv\",'r') as csvfile:\n",
    "    file_reader = csv.reader(csvfile,delimiter=',')\n",
    "    for row in file_reader:\n",
    "        data.append(row)\n",
    "data = np.array(data)        \n"
   ]
  },
  {
   "cell_type": "code",
   "execution_count": null,
   "metadata": {},
   "outputs": [],
   "source": []
  },
  {
   "cell_type": "code",
   "execution_count": 4,
   "metadata": {},
   "outputs": [
    {
     "name": "stdout",
     "output_type": "stream",
     "text": [
      "[['MSN' 'YYYYMM' 'Value' 'Column_Order' 'Description' 'Unit']\n",
      " ['CLETPUS' '194913' '135451.32' '1'\n",
      "  'Electricity Net Generation From Coal, All Sectors'\n",
      "  'Million Kilowatthours']\n",
      " ['CLETPUS' '195013' '154519.994' '1'\n",
      "  'Electricity Net Generation From Coal, All Sectors'\n",
      "  'Million Kilowatthours']\n",
      " ...\n",
      " ['ELETPUS' '201908' '401363.186' '13'\n",
      "  'Electricity Net Generation Total (including from sources not shown), All Sectors'\n",
      "  'Million Kilowatthours']\n",
      " ['ELETPUS' '201909' '359300.603' '13'\n",
      "  'Electricity Net Generation Total (including from sources not shown), All Sectors'\n",
      "  'Million Kilowatthours']\n",
      " ['ELETPUS' '201910' '321921.812' '13'\n",
      "  'Electricity Net Generation Total (including from sources not shown), All Sectors'\n",
      "  'Million Kilowatthours']]\n"
     ]
    }
   ],
   "source": [
    "print(data)"
   ]
  },
  {
   "attachments": {},
   "cell_type": "markdown",
   "metadata": {},
   "source": [
    "1. Explore the important attributes like dimension,shape, data type etc, of the array formed above"
   ]
  },
  {
   "cell_type": "code",
   "execution_count": 5,
   "metadata": {},
   "outputs": [
    {
     "name": "stdout",
     "output_type": "stream",
     "text": [
      "2\n",
      "(8217, 6)\n",
      "<U80\n",
      "49302\n"
     ]
    }
   ],
   "source": [
    "print(data.ndim)\n",
    "print(data.shape)\n",
    "print(data.dtype)\n",
    "print(data.size)"
   ]
  },
  {
   "attachments": {},
   "cell_type": "markdown",
   "metadata": {},
   "source": [
    "2.Print the data contained in the first 10 rows of the 4th column"
   ]
  },
  {
   "cell_type": "code",
   "execution_count": 6,
   "metadata": {},
   "outputs": [
    {
     "name": "stdout",
     "output_type": "stream",
     "text": [
      "['Column_Order' '1' '1' '1' '1' '1' '1' '1' '1' '1']\n"
     ]
    }
   ],
   "source": [
    "print(data[:10, 3])\n"
   ]
  },
  {
   "attachments": {},
   "cell_type": "markdown",
   "metadata": {},
   "source": [
    "3.Which row serves as the headers/titles for all the columns."
   ]
  },
  {
   "cell_type": "code",
   "execution_count": 7,
   "metadata": {},
   "outputs": [
    {
     "name": "stdout",
     "output_type": "stream",
     "text": [
      "['MSN' 'YYYYMM' 'Value' 'Column_Order' 'Description' 'Unit']\n"
     ]
    }
   ],
   "source": [
    "print(data[0,0:6])"
   ]
  },
  {
   "attachments": {},
   "cell_type": "markdown",
   "metadata": {},
   "source": [
    "3.Print the data contained in column 2 and 3 from row 1 till row 20"
   ]
  },
  {
   "cell_type": "code",
   "execution_count": 8,
   "metadata": {},
   "outputs": [
    {
     "name": "stdout",
     "output_type": "stream",
     "text": [
      "[['YYYYMM' 'Value']\n",
      " ['194913' '135451.32']\n",
      " ['195013' '154519.994']\n",
      " ['195113' '185203.657']\n",
      " ['195213' '195436.666']\n",
      " ['195313' '218846.325']\n",
      " ['195413' '239145.966']\n",
      " ['195513' '301362.698']\n",
      " ['195613' '338503.484']\n",
      " ['195713' '346386.207']\n",
      " ['195813' '344365.781']\n",
      " ['195913' '378424.21']\n",
      " ['196013' '403067.357']\n",
      " ['196113' '421870.669']\n",
      " ['196213' '450249.238']\n",
      " ['196313' '493926.719']\n",
      " ['196413' '526230.019']\n",
      " ['196513' '570925.951']\n",
      " ['196613' '613474.8']\n",
      " ['196713' '630483.363']]\n"
     ]
    }
   ],
   "source": [
    "print(data[0:20,1:3])"
   ]
  },
  {
   "cell_type": "code",
   "execution_count": 9,
   "metadata": {},
   "outputs": [
    {
     "ename": "SyntaxError",
     "evalue": "invalid decimal literal (2815476241.py, line 1)",
     "output_type": "error",
     "traceback": [
      "\u001b[1;36m  Cell \u001b[1;32mIn[9], line 1\u001b[1;36m\u001b[0m\n\u001b[1;33m    5.Print the data present in only the first three and the last three rows of all the columns in a single output.\u001b[0m\n\u001b[1;37m     ^\u001b[0m\n\u001b[1;31mSyntaxError\u001b[0m\u001b[1;31m:\u001b[0m invalid decimal literal\n"
     ]
    }
   ],
   "source": [
    "5.Print the data present in only the first three and the last three rows of all the columns in a single output."
   ]
  },
  {
   "cell_type": "code",
   "execution_count": null,
   "metadata": {},
   "outputs": [
    {
     "name": "stdout",
     "output_type": "stream",
     "text": [
      "['MSN' 'YYYYMM' 'Value' 'Column_Order' 'Description' 'Unit']\n",
      "['CLETPUS' '194913' '135451.32' '1'\n",
      " 'Electricity Net Generation From Coal, All Sectors'\n",
      " 'Million Kilowatthours']\n",
      "['CLETPUS' '195013' '154519.994' '1'\n",
      " 'Electricity Net Generation From Coal, All Sectors'\n",
      " 'Million Kilowatthours']\n",
      "['ELETPUS' '201908' '401363.186' '13'\n",
      " 'Electricity Net Generation Total (including from sources not shown), All Sectors'\n",
      " 'Million Kilowatthours']\n",
      "['ELETPUS' '201909' '359300.603' '13'\n",
      " 'Electricity Net Generation Total (including from sources not shown), All Sectors'\n",
      " 'Million Kilowatthours']\n",
      "['ELETPUS' '201910' '321921.812' '13'\n",
      " 'Electricity Net Generation Total (including from sources not shown), All Sectors'\n",
      " 'Million Kilowatthours']\n"
     ]
    }
   ],
   "source": [
    "first_3 = data[:3,:]\n",
    "last_3 = data[-3:,:]\n",
    "selected_data = np.vstack((first_3, last_3))\n",
    "for row in selected_data:\n",
    "    print(row)\n"
   ]
  },
  {
   "cell_type": "code",
   "execution_count": null,
   "metadata": {},
   "outputs": [],
   "source": [
    "6.Sort the data on the basis of net amount of electricity generated irrespective of the source. "
   ]
  },
  {
   "cell_type": "code",
   "execution_count": null,
   "metadata": {},
   "outputs": [
    {
     "data": {
      "text/plain": [
       "array([['Column_Order', 'Description', 'MSN', 'Unit', 'Value', 'YYYYMM'],\n",
       "       ['1', '135451.32', '194913', 'CLETPUS',\n",
       "        'Electricity Net Generation From Coal, All Sectors',\n",
       "        'Million Kilowatthours'],\n",
       "       ['1', '154519.994', '195013', 'CLETPUS',\n",
       "        'Electricity Net Generation From Coal, All Sectors',\n",
       "        'Million Kilowatthours'],\n",
       "       ...,\n",
       "       ['13', '201908', '401363.186', 'ELETPUS',\n",
       "        'Electricity Net Generation Total (including from sources not shown), All Sectors',\n",
       "        'Million Kilowatthours'],\n",
       "       ['13', '201909', '359300.603', 'ELETPUS',\n",
       "        'Electricity Net Generation Total (including from sources not shown), All Sectors',\n",
       "        'Million Kilowatthours'],\n",
       "       ['13', '201910', '321921.812', 'ELETPUS',\n",
       "        'Electricity Net Generation Total (including from sources not shown), All Sectors',\n",
       "        'Million Kilowatthours']], dtype='<U80')"
      ]
     },
     "execution_count": 10,
     "metadata": {},
     "output_type": "execute_result"
    }
   ],
   "source": [
    "np.sort(data)"
   ]
  },
  {
   "attachments": {},
   "cell_type": "markdown",
   "metadata": {},
   "source": [
    "8.Print all the unique sources of Energy generation present in the dataset"
   ]
  },
  {
   "cell_type": "code",
   "execution_count": null,
   "metadata": {},
   "outputs": [
    {
     "name": "stdout",
     "output_type": "stream",
     "text": [
      "Unique sources of energy generation: ['1' '10' '11' '12' '13' '2' '3' '4' '5' '6' '7' '8' '9' 'Column_Order']\n"
     ]
    }
   ],
   "source": [
    "# Extract the column containing the source of energy generation\n",
    "sources = data[:,3]\n",
    "\n",
    "# Get the unique sources of energy generation\n",
    "unique_sources = np.unique(sources)\n",
    "\n",
    "# Print the unique sources of energy generation\n",
    "print(\"Unique sources of energy generation:\", unique_sources)"
   ]
  },
  {
   "cell_type": "code",
   "execution_count": null,
   "metadata": {},
   "outputs": [
    {
     "data": {
      "text/plain": [
       "array(['1', '135451.32', '194913', 'CLETPUS'], dtype='<U80')"
      ]
     },
     "execution_count": 21,
     "metadata": {},
     "output_type": "execute_result"
    }
   ],
   "source": [
    "source=data[1,:4]\n",
    "np.unique(source)"
   ]
  },
  {
   "attachments": {},
   "cell_type": "markdown",
   "metadata": {},
   "source": [
    "10.Print the Total Energy generated in the USA till date."
   ]
  },
  {
   "cell_type": "code",
   "execution_count": null,
   "metadata": {},
   "outputs": [
    {
     "name": "stdout",
     "output_type": "stream",
     "text": [
      "Total energy generated in the USA till date: 642969289.5169998 Million Kilowatthours\n"
     ]
    }
   ],
   "source": [
    "energy_values = data[1:, 2]\n",
    "energy_values = np.where(energy_values == 'Not Available', np.nan, energy_values)\n",
    "total_energy = np.nansum(energy_values.astype(float))\n",
    "print(\"Total energy generated in the USA till date:\", total_energy, \"Million Kilowatthours\")"
   ]
  },
  {
   "attachments": {},
   "cell_type": "markdown",
   "metadata": {},
   "source": [
    "13.Plot the above data to find if the energy production in the USA has increased in the last 10 years"
   ]
  },
  {
   "cell_type": "code",
   "execution_count": null,
   "metadata": {},
   "outputs": [
    {
     "data": {
      "image/png": "[encoded data removed]",
      "text/plain": [
       "<Figure size 640x480 with 1 Axes>"
      ]
     },
     "metadata": {},
     "output_type": "display_data"
    }
   ],
   "source": [
    "last_10_years = data[-10:, :]\n",
    "years = last_10_years[:, 1].astype(int)\n",
    "energy_generation = last_10_years[:, 2].astype(float)\n",
    "\n",
    "plt.plot(years, energy_generation, label=\"Energy Generation (Unit)\")\n",
    "plt.xlabel(\"Year\")\n",
    "plt.ylabel(\"Energy Generation (Unit)\")\n",
    "plt.title(\"Energy Generation in the USA - Last 10 Years\")\n",
    "plt.show()"
   ]
  },
  {
   "cell_type": "code",
   "execution_count": null,
   "metadata": {},
   "outputs": [],
   "source": [
    "mask=(data[:,2]!='Not Available')"
   ]
  },
  {
   "cell_type": "code",
   "execution_count": null,
   "metadata": {},
   "outputs": [
    {
     "data": {
      "text/plain": [
       "array([ True,  True,  True, ...,  True,  True,  True])"
      ]
     },
     "execution_count": 27,
     "metadata": {},
     "output_type": "execute_result"
    }
   ],
   "source": [
    "mask"
   ]
  },
  {
   "cell_type": "code",
   "execution_count": null,
   "metadata": {},
   "outputs": [],
   "source": [
    "electricity_gen=data[mask]"
   ]
  },
  {
   "cell_type": "code",
   "execution_count": null,
   "metadata": {},
   "outputs": [
    {
     "data": {
      "text/plain": [
       "(7387, 6)"
      ]
     },
     "execution_count": 29,
     "metadata": {},
     "output_type": "execute_result"
    }
   ],
   "source": [
    "electricity_gen.shape"
   ]
  },
  {
   "cell_type": "code",
   "execution_count": null,
   "metadata": {},
   "outputs": [],
   "source": []
  },
  {
   "cell_type": "markdown",
   "metadata": {},
   "source": []
  },
  {
   "cell_type": "code",
   "execution_count": null,
   "metadata": {},
   "outputs": [
    {
     "data": {
      "text/plain": [
       "array([  -8823.445,   -8742.928,   -8535.065, ..., 4125059.9  ,\n",
       "       4156744.724, 4174397.655])"
      ]
     },
     "execution_count": 30,
     "metadata": {},
     "output_type": "execute_result"
    }
   ],
   "source": [
    "np.sort(electricity_gen[1:,2].astype(float))"
   ]
  },
  {
   "attachments": {},
   "cell_type": "markdown",
   "metadata": {},
   "source": [
    "7.Find the total amount of electricity generated using coal and nuclear between 1949-1990.( In this dataset, rows containing monthly data express date in the format 'YYYYMM'. Rows containing annual data express the date in the format 'YYYY13'.)"
   ]
  },
  {
   "cell_type": "code",
   "execution_count": null,
   "metadata": {},
   "outputs": [],
   "source": []
  },
  {
   "cell_type": "code",
   "execution_count": null,
   "metadata": {},
   "outputs": [],
   "source": [
    "nw=data[1:]"
   ]
  },
  {
   "cell_type": "code",
   "execution_count": null,
   "metadata": {},
   "outputs": [
    {
     "data": {
      "text/plain": [
       "(6,)"
      ]
     },
     "execution_count": 16,
     "metadata": {},
     "output_type": "execute_result"
    }
   ],
   "source": [
    "nw.shape"
   ]
  },
  {
   "cell_type": "code",
   "execution_count": null,
   "metadata": {},
   "outputs": [],
   "source": [
    "cond_time=np.mod(nw[:,1].astype(int),100)==13"
   ]
  },
  {
   "cell_type": "code",
   "execution_count": null,
   "metadata": {},
   "outputs": [
    {
     "data": {
      "text/plain": [
       "(8216,)"
      ]
     },
     "execution_count": 20,
     "metadata": {},
     "output_type": "execute_result"
    }
   ],
   "source": [
    "cond_time.shape"
   ]
  },
  {
   "cell_type": "code",
   "execution_count": null,
   "metadata": {},
   "outputs": [],
   "source": [
    "data_annual=nw[cond_time]"
   ]
  },
  {
   "cell_type": "code",
   "execution_count": null,
   "metadata": {},
   "outputs": [],
   "source": [
    "c1990=(data_annual[:,1].astype(int))<=199013"
   ]
  },
  {
   "cell_type": "code",
   "execution_count": null,
   "metadata": {},
   "outputs": [],
   "source": [
    "data1990=data_annual[c1990]"
   ]
  },
  {
   "cell_type": "code",
   "execution_count": null,
   "metadata": {},
   "outputs": [],
   "source": [
    "cond_coal=data1990[:,4]=='Electricity Net Generation From Coal, All Sectors'"
   ]
  },
  {
   "cell_type": "code",
   "execution_count": null,
   "metadata": {},
   "outputs": [],
   "source": [
    "coal=data1990[cond_coal]"
   ]
  },
  {
   "cell_type": "code",
   "execution_count": null,
   "metadata": {},
   "outputs": [],
   "source": [
    "cond_nucl=data1990[:,4]=='Electricity Net Generation From Nuclear Electric Power, All Sectors'\n",
    "nuclear=data1990[cond_nucl]"
   ]
  },
  {
   "cell_type": "code",
   "execution_count": null,
   "metadata": {},
   "outputs": [],
   "source": [
    "final=np.vstack((coal,nuclear))"
   ]
  },
  {
   "cell_type": "code",
   "execution_count": null,
   "metadata": {},
   "outputs": [
    {
     "name": "stdout",
     "output_type": "stream",
     "text": [
      "Total enerzy: 37990978.569000006\n"
     ]
    }
   ],
   "source": [
    "print(\"Total enerzy:\",np.sum(final[:,2].astype(float)))"
   ]
  },
  {
   "attachments": {},
   "cell_type": "markdown",
   "metadata": {},
   "source": [
    "9.Print all the details(annual) where the energy source is Wind Energy. Use the concept of masking to filter the data."
   ]
  },
  {
   "attachments": {},
   "cell_type": "markdown",
   "metadata": {},
   "source": [
    "9.Print all the details(annual) where the energy source is Wind Energy. Use the concept of masking to filter the data."
   ]
  },
  {
   "cell_type": "code",
   "execution_count": 19,
   "metadata": {},
   "outputs": [
    {
     "name": "stdout",
     "output_type": "stream",
     "text": [
      "Total (annual) energy generated with wind is: 4127861.363 Million Kilowatthours\n"
     ]
    }
   ],
   "source": [
    "mask = (data[:, 4] == 'Electricity Net Generation From Wind, All Sectors')\n",
    "w_data=data[mask]\n",
    "w_value=w_data[1:,2]\n",
    "w_energy = np.where(w_value == 'Not Available', np.nan, w_value)\n",
    "total_wind = np.nansum(w_energy.astype(float))\n",
    "print(\"Total (annual) energy generated with wind is:\",total_wind, \"Million Kilowatthours\")\n"
   ]
  },
  {
   "cell_type": "code",
   "execution_count": 22,
   "metadata": {},
   "outputs": [
    {
     "data": {
      "text/plain": [
       "0.0"
      ]
     },
     "execution_count": 22,
     "metadata": {},
     "output_type": "execute_result"
    }
   ],
   "source": [
    "np.std(total_wind)\n"
   ]
  },
  {
   "cell_type": "markdown",
   "metadata": {},
   "source": []
  },
  {
   "cell_type": "markdown",
   "metadata": {},
   "source": []
  },
  {
   "cell_type": "markdown",
   "metadata": {},
   "source": []
  },
  {
   "attachments": {},
   "cell_type": "markdown",
   "metadata": {},
   "source": []
  },
  {
   "cell_type": "markdown",
   "metadata": {},
   "source": []
  },
  {
   "cell_type": "code",
   "execution_count": 30,
   "metadata": {},
   "outputs": [
    {
     "name": "stdout",
     "output_type": "stream",
     "text": [
      "Average annual energy generated from wind: nan\n",
      "Standard deviation of annual energy generated from wind: nan\n"
     ]
    }
   ],
   "source": [
    "import numpy as np\n",
    "\n",
    "mask = (data[:,0] == \"Wind Energy\") & (data[:,2] != \"Not Available\")\n",
    "wind_data = data[mask]\n",
    "\n",
    "wind_energies = np.array(wind_data[:,2], dtype=float)\n",
    "\n",
    "mean = np.mean(wind_energies)\n",
    "std_dev = np.std(wind_energies)\n",
    "\n",
    "print(\"Average annual energy generated from wind:\", mean)\n",
    "print(\"Standard deviation of annual energy generated from wind:\", std_dev)\n"
   ]
  },
  {
   "cell_type": "code",
   "execution_count": 32,
   "metadata": {},
   "outputs": [
    {
     "data": {
      "image/png": "[encoded data removed]",
      "text/plain": [
       "<Figure size 640x480 with 1 Axes>"
      ]
     },
     "metadata": {},
     "output_type": "display_data"
    }
   ],
   "source": [
    "import numpy as np\n",
    "import matplotlib.pyplot as plt\n",
    "\n",
    "mask = (data[:,0] == \"Wind Energy\") & (data[:,2] != \"Not Available\")\n",
    "wind_data = data[mask]\n",
    "\n",
    "wind_years = np.array([int(year_month[:4]) for year_month in wind_data[:,1]])\n",
    "unique_years, year_indices = np.unique(wind_years, return_inverse=True)\n",
    "\n",
    "wind_energies = np.bincount(year_indices, np.array(wind_data[:,2], dtype=float))\n",
    "\n",
    "plt.bar(unique_years, wind_energies)\n",
    "plt.xlabel(\"Year\")\n",
    "plt.ylabel(\"Wind Energy Generation (in GWh)\")\n",
    "plt.title(\"Trend in Wind Energy Generation in the USA\")\n",
    "plt.show()\n"
   ]
  },
  {
   "cell_type": "code",
   "execution_count": 33,
   "metadata": {},
   "outputs": [
    {
     "name": "stdout",
     "output_type": "stream",
     "text": [
      "Trend in Wind Energy Generation in the USA:\n",
      "Year\tEnergy Generated (in GWh)\n"
     ]
    }
   ],
   "source": [
    "import numpy as np\n",
    "\n",
    "mask = (data[:,0] == \"Wind Energy\") & (data[:,2] != \"Not Available\")\n",
    "wind_data = data[mask]\n",
    "\n",
    "wind_years = np.array([int(year_month[:4]) for year_month in wind_data[:,1]])\n",
    "unique_years, year_indices = np.unique(wind_years, return_inverse=True)\n",
    "\n",
    "wind_energies = np.bincount(year_indices, np.array(wind_data[:,2], dtype=float))\n",
    "\n",
    "print(\"Trend in Wind Energy Generation in the USA:\")\n",
    "print(\"Year\\tEnergy Generated (in GWh)\")\n",
    "for year, energy in zip(unique_years, wind_energies):\n",
    "    print(\"{}\\t{:.2f}\".format(year, energy))\n"
   ]
  }
 ],
 "metadata": {
  "kernelspec": {
   "display_name": "Python 3",
   "language": "python",
   "name": "python3"
  },
  "language_info": {
   "codemirror_mode": {
    "name": "ipython",
    "version": 3
   },
   "file_extension": ".py",
   "mimetype": "text/x-python",
   "name": "python",
   "nbconvert_exporter": "python",
   "pygments_lexer": "ipython3",
   "version": "3.10.10"
  },
  "orig_nbformat": 4,
  "vscode": {
   "interpreter": {
    "hash": "ba37d69516b96b2df66115ef342e83722e1a1518f5d2e0ee41eb08141fa2fe2a"
   }
  }
 },
 "nbformat": 4,
 "nbformat_minor": 2
}
